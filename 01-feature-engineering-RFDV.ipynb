{
 "cells": [
  {
   "cell_type": "code",
   "execution_count": 1,
   "metadata": {},
   "outputs": [],
   "source": [
    "import pandas as pd\n",
    "import numpy as np\n",
    "import datetime\n",
    "from dateutil.relativedelta import relativedelta\n",
    "from datetime import date"
   ]
  },
  {
   "cell_type": "markdown",
   "metadata": {},
   "source": [
    "### Primeiro, importar os eventos e os perfils para ver a cara desses dados para ver se está tudo OK."
   ]
  },
  {
   "cell_type": "code",
   "execution_count": 2,
   "metadata": {},
   "outputs": [],
   "source": [
    "df_eventos = pd.read_csv('data/01-eventos-consolidados_apenas-free.csv', index_col=0)"
   ]
  },
  {
   "cell_type": "code",
   "execution_count": 5,
   "metadata": {},
   "outputs": [],
   "source": [
    "df_perfils = pd.read_csv('data/02-perfils-higienizados.csv', index_col=0)"
   ]
  },
  {
   "cell_type": "code",
   "execution_count": 6,
   "metadata": {},
   "outputs": [
    {
     "data": {
      "text/html": [
       "<div>\n",
       "<style scoped>\n",
       "    .dataframe tbody tr th:only-of-type {\n",
       "        vertical-align: middle;\n",
       "    }\n",
       "\n",
       "    .dataframe tbody tr th {\n",
       "        vertical-align: top;\n",
       "    }\n",
       "\n",
       "    .dataframe thead th {\n",
       "        text-align: right;\n",
       "    }\n",
       "</style>\n",
       "<table border=\"1\" class=\"dataframe\">\n",
       "  <thead>\n",
       "    <tr style=\"text-align: right;\">\n",
       "      <th></th>\n",
       "      <th>event</th>\n",
       "      <th>time</th>\n",
       "      <th>distinct_id</th>\n",
       "    </tr>\n",
       "  </thead>\n",
       "  <tbody>\n",
       "    <tr>\n",
       "      <td>0</td>\n",
       "      <td>Busca CNPJ</td>\n",
       "      <td>2020-05-03 00:01:27</td>\n",
       "      <td>bqPeiaqE8GpSRuZL6EXewNzVCBuFTAvJ.b5c5e42839712...</td>\n",
       "    </tr>\n",
       "    <tr>\n",
       "      <td>1</td>\n",
       "      <td>Busca CNPJ</td>\n",
       "      <td>2020-05-03 00:05:13</td>\n",
       "      <td>bqPeiaqE8GpSRuZL6EXewNzVCBuFTAvJ.b5c5e42839712...</td>\n",
       "    </tr>\n",
       "    <tr>\n",
       "      <td>2</td>\n",
       "      <td>Busca CNPJ</td>\n",
       "      <td>2020-05-03 00:09:34</td>\n",
       "      <td>O4nwEphIRGdwTlJoo71hkaHGZsDDtZ6N.9b2a763248cca...</td>\n",
       "    </tr>\n",
       "    <tr>\n",
       "      <td>3</td>\n",
       "      <td>Busca CNPJ</td>\n",
       "      <td>2020-05-03 00:09:35</td>\n",
       "      <td>O4nwEphIRGdwTlJoo71hkaHGZsDDtZ6N.9b2a763248cca...</td>\n",
       "    </tr>\n",
       "    <tr>\n",
       "      <td>4</td>\n",
       "      <td>Busca CNPJ</td>\n",
       "      <td>2020-05-03 00:09:37</td>\n",
       "      <td>O4nwEphIRGdwTlJoo71hkaHGZsDDtZ6N.9b2a763248cca...</td>\n",
       "    </tr>\n",
       "  </tbody>\n",
       "</table>\n",
       "</div>"
      ],
      "text/plain": [
       "        event                 time  \\\n",
       "0  Busca CNPJ  2020-05-03 00:01:27   \n",
       "1  Busca CNPJ  2020-05-03 00:05:13   \n",
       "2  Busca CNPJ  2020-05-03 00:09:34   \n",
       "3  Busca CNPJ  2020-05-03 00:09:35   \n",
       "4  Busca CNPJ  2020-05-03 00:09:37   \n",
       "\n",
       "                                         distinct_id  \n",
       "0  bqPeiaqE8GpSRuZL6EXewNzVCBuFTAvJ.b5c5e42839712...  \n",
       "1  bqPeiaqE8GpSRuZL6EXewNzVCBuFTAvJ.b5c5e42839712...  \n",
       "2  O4nwEphIRGdwTlJoo71hkaHGZsDDtZ6N.9b2a763248cca...  \n",
       "3  O4nwEphIRGdwTlJoo71hkaHGZsDDtZ6N.9b2a763248cca...  \n",
       "4  O4nwEphIRGdwTlJoo71hkaHGZsDDtZ6N.9b2a763248cca...  "
      ]
     },
     "execution_count": 6,
     "metadata": {},
     "output_type": "execute_result"
    }
   ],
   "source": [
    "df_eventos.head()"
   ]
  },
  {
   "cell_type": "code",
   "execution_count": 17,
   "metadata": {},
   "outputs": [
    {
     "data": {
      "text/plain": [
       "(934355, 3)"
      ]
     },
     "execution_count": 17,
     "metadata": {},
     "output_type": "execute_result"
    }
   ],
   "source": [
    "df_eventos.shape"
   ]
  },
  {
   "cell_type": "code",
   "execution_count": 7,
   "metadata": {},
   "outputs": [
    {
     "data": {
      "text/html": [
       "<div>\n",
       "<style scoped>\n",
       "    .dataframe tbody tr th:only-of-type {\n",
       "        vertical-align: middle;\n",
       "    }\n",
       "\n",
       "    .dataframe tbody tr th {\n",
       "        vertical-align: top;\n",
       "    }\n",
       "\n",
       "    .dataframe thead th {\n",
       "        text-align: right;\n",
       "    }\n",
       "</style>\n",
       "<table border=\"1\" class=\"dataframe\">\n",
       "  <thead>\n",
       "    <tr style=\"text-align: right;\">\n",
       "      <th></th>\n",
       "      <th>distinct_id</th>\n",
       "      <th>Browser</th>\n",
       "      <th>city</th>\n",
       "      <th>country_code</th>\n",
       "      <th>created</th>\n",
       "      <th>initial_referring_domain</th>\n",
       "      <th>last_seen</th>\n",
       "      <th>os</th>\n",
       "      <th>region</th>\n",
       "      <th>Source</th>\n",
       "    </tr>\n",
       "  </thead>\n",
       "  <tbody>\n",
       "    <tr>\n",
       "      <td>27</td>\n",
       "      <td>WNcleXIIU5aelXWAfsCOWd8ndhaDQdl4.e815aac4fb5b3...</td>\n",
       "      <td>Chrome 83.0</td>\n",
       "      <td>Curitiba</td>\n",
       "      <td>BR</td>\n",
       "      <td>2020-05-27 13:52:19</td>\n",
       "      <td>$direct</td>\n",
       "      <td>2020-05-27 16:52:21</td>\n",
       "      <td>Windows</td>\n",
       "      <td>Parana</td>\n",
       "      <td>CC CNPJ - Painel de Dados - Telefones</td>\n",
       "    </tr>\n",
       "    <tr>\n",
       "      <td>28</td>\n",
       "      <td>172604d426f651-0a9105b4048dfb-1a201708-100200-...</td>\n",
       "      <td>Chrome 73.0</td>\n",
       "      <td>Curitiba</td>\n",
       "      <td>BR</td>\n",
       "      <td>2020-05-29 06:00:20</td>\n",
       "      <td>$direct</td>\n",
       "      <td>2020-06-03 15:33:59</td>\n",
       "      <td>Linux</td>\n",
       "      <td>Parana</td>\n",
       "      <td>LA Criar Conta</td>\n",
       "    </tr>\n",
       "    <tr>\n",
       "      <td>29</td>\n",
       "      <td>172630063eaca-0e2be0fe39195-58143718-100200-17...</td>\n",
       "      <td>Chrome 83.0</td>\n",
       "      <td>Recife</td>\n",
       "      <td>BR</td>\n",
       "      <td>2020-05-29 18:34:30</td>\n",
       "      <td>consultacnpj.com</td>\n",
       "      <td>2020-05-29 21:35:13</td>\n",
       "      <td>Windows</td>\n",
       "      <td>Pernambuco</td>\n",
       "      <td>CC CNPJ - Painel de Dados - E-mails</td>\n",
       "    </tr>\n",
       "    <tr>\n",
       "      <td>30</td>\n",
       "      <td>HXgZYzItf1dg3U9osEk2wNbSlNuA6gEa.6451e1f34b19e...</td>\n",
       "      <td>Chrome 84.0</td>\n",
       "      <td>Curitiba</td>\n",
       "      <td>BR</td>\n",
       "      <td>2020-06-01 11:51:28</td>\n",
       "      <td>leads2b.com</td>\n",
       "      <td>2020-08-06 16:31:43</td>\n",
       "      <td>Windows</td>\n",
       "      <td>Parana</td>\n",
       "      <td>LA Criar Conta</td>\n",
       "    </tr>\n",
       "    <tr>\n",
       "      <td>31</td>\n",
       "      <td>KvlhZUYVslEa4GDBdOM0KcbnQg03v4QV.f2f55b40d6d78...</td>\n",
       "      <td>Chrome 83.0</td>\n",
       "      <td>Sao Jose</td>\n",
       "      <td>BR</td>\n",
       "      <td>2020-06-02 17:05:53</td>\n",
       "      <td>$direct</td>\n",
       "      <td>2020-06-03 09:21:16</td>\n",
       "      <td>Windows</td>\n",
       "      <td>Santa Catarina</td>\n",
       "      <td>LA Criar Conta</td>\n",
       "    </tr>\n",
       "  </tbody>\n",
       "</table>\n",
       "</div>"
      ],
      "text/plain": [
       "                                          distinct_id      Browser      city  \\\n",
       "27  WNcleXIIU5aelXWAfsCOWd8ndhaDQdl4.e815aac4fb5b3...  Chrome 83.0  Curitiba   \n",
       "28  172604d426f651-0a9105b4048dfb-1a201708-100200-...  Chrome 73.0  Curitiba   \n",
       "29  172630063eaca-0e2be0fe39195-58143718-100200-17...  Chrome 83.0    Recife   \n",
       "30  HXgZYzItf1dg3U9osEk2wNbSlNuA6gEa.6451e1f34b19e...  Chrome 84.0  Curitiba   \n",
       "31  KvlhZUYVslEa4GDBdOM0KcbnQg03v4QV.f2f55b40d6d78...  Chrome 83.0  Sao Jose   \n",
       "\n",
       "   country_code              created initial_referring_domain  \\\n",
       "27           BR  2020-05-27 13:52:19                  $direct   \n",
       "28           BR  2020-05-29 06:00:20                  $direct   \n",
       "29           BR  2020-05-29 18:34:30         consultacnpj.com   \n",
       "30           BR  2020-06-01 11:51:28              leads2b.com   \n",
       "31           BR  2020-06-02 17:05:53                  $direct   \n",
       "\n",
       "              last_seen       os          region  \\\n",
       "27  2020-05-27 16:52:21  Windows          Parana   \n",
       "28  2020-06-03 15:33:59    Linux          Parana   \n",
       "29  2020-05-29 21:35:13  Windows      Pernambuco   \n",
       "30  2020-08-06 16:31:43  Windows          Parana   \n",
       "31  2020-06-03 09:21:16  Windows  Santa Catarina   \n",
       "\n",
       "                                   Source  \n",
       "27  CC CNPJ - Painel de Dados - Telefones  \n",
       "28                         LA Criar Conta  \n",
       "29    CC CNPJ - Painel de Dados - E-mails  \n",
       "30                         LA Criar Conta  \n",
       "31                         LA Criar Conta  "
      ]
     },
     "execution_count": 7,
     "metadata": {},
     "output_type": "execute_result"
    }
   ],
   "source": [
    "df_perfils.head()"
   ]
  },
  {
   "cell_type": "code",
   "execution_count": 18,
   "metadata": {},
   "outputs": [
    {
     "data": {
      "text/plain": [
       "(9251, 10)"
      ]
     },
     "execution_count": 18,
     "metadata": {},
     "output_type": "execute_result"
    }
   ],
   "source": [
    "df_perfils.shape"
   ]
  },
  {
   "cell_type": "markdown",
   "metadata": {},
   "source": [
    "### Agora vamos criar a Recência e a Duração, que são os mais fáceis."
   ]
  },
  {
   "cell_type": "markdown",
   "metadata": {},
   "source": [
    "Primeiro passar as colunas de 'created' e 'last_seen' para o formato de DateTime."
   ]
  },
  {
   "cell_type": "code",
   "execution_count": 65,
   "metadata": {},
   "outputs": [],
   "source": [
    "df_perfils['created'] = pd.to_datetime(df_perfils['created'])"
   ]
  },
  {
   "cell_type": "code",
   "execution_count": 66,
   "metadata": {},
   "outputs": [],
   "source": [
    "df_perfils['last_seen'] = pd.to_datetime(df_perfils['last_seen'])"
   ]
  },
  {
   "cell_type": "markdown",
   "metadata": {},
   "source": [
    "Para a Recência, vamos contar em dias a distancia entre a última vez que foi visto e o fim da série histórica."
   ]
  },
  {
   "cell_type": "code",
   "execution_count": 67,
   "metadata": {},
   "outputs": [],
   "source": [
    "df_perfils['recencia'] = (pd.Timestamp('2020-08-13') - df_perfils['last_seen']).dt.days"
   ]
  },
  {
   "cell_type": "markdown",
   "metadata": {},
   "source": [
    "Para a Duração, vamos contar em dias a distância entre a data de criação daquele usuário e a última vez que foi visto."
   ]
  },
  {
   "cell_type": "code",
   "execution_count": 68,
   "metadata": {},
   "outputs": [],
   "source": [
    "df_perfils['duracao'] = (df_perfils['last_seen'] - df_perfils['created']).dt.days"
   ]
  },
  {
   "cell_type": "markdown",
   "metadata": {},
   "source": [
    "Agora vamos checar se deu tudo certo:"
   ]
  },
  {
   "cell_type": "code",
   "execution_count": 69,
   "metadata": {},
   "outputs": [
    {
     "data": {
      "text/html": [
       "<div>\n",
       "<style scoped>\n",
       "    .dataframe tbody tr th:only-of-type {\n",
       "        vertical-align: middle;\n",
       "    }\n",
       "\n",
       "    .dataframe tbody tr th {\n",
       "        vertical-align: top;\n",
       "    }\n",
       "\n",
       "    .dataframe thead th {\n",
       "        text-align: right;\n",
       "    }\n",
       "</style>\n",
       "<table border=\"1\" class=\"dataframe\">\n",
       "  <thead>\n",
       "    <tr style=\"text-align: right;\">\n",
       "      <th></th>\n",
       "      <th>distinct_id</th>\n",
       "      <th>Browser</th>\n",
       "      <th>city</th>\n",
       "      <th>country_code</th>\n",
       "      <th>created</th>\n",
       "      <th>initial_referring_domain</th>\n",
       "      <th>last_seen</th>\n",
       "      <th>os</th>\n",
       "      <th>region</th>\n",
       "      <th>Source</th>\n",
       "      <th>recencia</th>\n",
       "      <th>duracao</th>\n",
       "    </tr>\n",
       "  </thead>\n",
       "  <tbody>\n",
       "    <tr>\n",
       "      <td>27</td>\n",
       "      <td>WNcleXIIU5aelXWAfsCOWd8ndhaDQdl4.e815aac4fb5b3...</td>\n",
       "      <td>Chrome 83.0</td>\n",
       "      <td>Curitiba</td>\n",
       "      <td>BR</td>\n",
       "      <td>2020-05-27 13:52:19</td>\n",
       "      <td>$direct</td>\n",
       "      <td>2020-05-27 16:52:21</td>\n",
       "      <td>Windows</td>\n",
       "      <td>Parana</td>\n",
       "      <td>CC CNPJ - Painel de Dados - Telefones</td>\n",
       "      <td>77</td>\n",
       "      <td>0</td>\n",
       "    </tr>\n",
       "    <tr>\n",
       "      <td>28</td>\n",
       "      <td>172604d426f651-0a9105b4048dfb-1a201708-100200-...</td>\n",
       "      <td>Chrome 73.0</td>\n",
       "      <td>Curitiba</td>\n",
       "      <td>BR</td>\n",
       "      <td>2020-05-29 06:00:20</td>\n",
       "      <td>$direct</td>\n",
       "      <td>2020-06-03 15:33:59</td>\n",
       "      <td>Linux</td>\n",
       "      <td>Parana</td>\n",
       "      <td>LA Criar Conta</td>\n",
       "      <td>70</td>\n",
       "      <td>5</td>\n",
       "    </tr>\n",
       "    <tr>\n",
       "      <td>29</td>\n",
       "      <td>172630063eaca-0e2be0fe39195-58143718-100200-17...</td>\n",
       "      <td>Chrome 83.0</td>\n",
       "      <td>Recife</td>\n",
       "      <td>BR</td>\n",
       "      <td>2020-05-29 18:34:30</td>\n",
       "      <td>consultacnpj.com</td>\n",
       "      <td>2020-05-29 21:35:13</td>\n",
       "      <td>Windows</td>\n",
       "      <td>Pernambuco</td>\n",
       "      <td>CC CNPJ - Painel de Dados - E-mails</td>\n",
       "      <td>75</td>\n",
       "      <td>0</td>\n",
       "    </tr>\n",
       "    <tr>\n",
       "      <td>30</td>\n",
       "      <td>HXgZYzItf1dg3U9osEk2wNbSlNuA6gEa.6451e1f34b19e...</td>\n",
       "      <td>Chrome 84.0</td>\n",
       "      <td>Curitiba</td>\n",
       "      <td>BR</td>\n",
       "      <td>2020-06-01 11:51:28</td>\n",
       "      <td>leads2b.com</td>\n",
       "      <td>2020-08-06 16:31:43</td>\n",
       "      <td>Windows</td>\n",
       "      <td>Parana</td>\n",
       "      <td>LA Criar Conta</td>\n",
       "      <td>6</td>\n",
       "      <td>66</td>\n",
       "    </tr>\n",
       "    <tr>\n",
       "      <td>31</td>\n",
       "      <td>KvlhZUYVslEa4GDBdOM0KcbnQg03v4QV.f2f55b40d6d78...</td>\n",
       "      <td>Chrome 83.0</td>\n",
       "      <td>Sao Jose</td>\n",
       "      <td>BR</td>\n",
       "      <td>2020-06-02 17:05:53</td>\n",
       "      <td>$direct</td>\n",
       "      <td>2020-06-03 09:21:16</td>\n",
       "      <td>Windows</td>\n",
       "      <td>Santa Catarina</td>\n",
       "      <td>LA Criar Conta</td>\n",
       "      <td>70</td>\n",
       "      <td>0</td>\n",
       "    </tr>\n",
       "  </tbody>\n",
       "</table>\n",
       "</div>"
      ],
      "text/plain": [
       "                                          distinct_id      Browser      city  \\\n",
       "27  WNcleXIIU5aelXWAfsCOWd8ndhaDQdl4.e815aac4fb5b3...  Chrome 83.0  Curitiba   \n",
       "28  172604d426f651-0a9105b4048dfb-1a201708-100200-...  Chrome 73.0  Curitiba   \n",
       "29  172630063eaca-0e2be0fe39195-58143718-100200-17...  Chrome 83.0    Recife   \n",
       "30  HXgZYzItf1dg3U9osEk2wNbSlNuA6gEa.6451e1f34b19e...  Chrome 84.0  Curitiba   \n",
       "31  KvlhZUYVslEa4GDBdOM0KcbnQg03v4QV.f2f55b40d6d78...  Chrome 83.0  Sao Jose   \n",
       "\n",
       "   country_code             created initial_referring_domain  \\\n",
       "27           BR 2020-05-27 13:52:19                  $direct   \n",
       "28           BR 2020-05-29 06:00:20                  $direct   \n",
       "29           BR 2020-05-29 18:34:30         consultacnpj.com   \n",
       "30           BR 2020-06-01 11:51:28              leads2b.com   \n",
       "31           BR 2020-06-02 17:05:53                  $direct   \n",
       "\n",
       "             last_seen       os          region  \\\n",
       "27 2020-05-27 16:52:21  Windows          Parana   \n",
       "28 2020-06-03 15:33:59    Linux          Parana   \n",
       "29 2020-05-29 21:35:13  Windows      Pernambuco   \n",
       "30 2020-08-06 16:31:43  Windows          Parana   \n",
       "31 2020-06-03 09:21:16  Windows  Santa Catarina   \n",
       "\n",
       "                                   Source  recencia  duracao  \n",
       "27  CC CNPJ - Painel de Dados - Telefones        77        0  \n",
       "28                         LA Criar Conta        70        5  \n",
       "29    CC CNPJ - Painel de Dados - E-mails        75        0  \n",
       "30                         LA Criar Conta         6       66  \n",
       "31                         LA Criar Conta        70        0  "
      ]
     },
     "execution_count": 69,
     "metadata": {},
     "output_type": "execute_result"
    }
   ],
   "source": [
    "df_perfils.head()"
   ]
  },
  {
   "cell_type": "code",
   "execution_count": 70,
   "metadata": {},
   "outputs": [
    {
     "data": {
      "text/plain": [
       "distinct_id                         object\n",
       "Browser                             object\n",
       "city                                object\n",
       "country_code                        object\n",
       "created                     datetime64[ns]\n",
       "initial_referring_domain            object\n",
       "last_seen                   datetime64[ns]\n",
       "os                                  object\n",
       "region                              object\n",
       "Source                              object\n",
       "recencia                             int64\n",
       "duracao                              int64\n",
       "dtype: object"
      ]
     },
     "execution_count": 70,
     "metadata": {},
     "output_type": "execute_result"
    }
   ],
   "source": [
    "df_perfils.dtypes"
   ]
  },
  {
   "cell_type": "markdown",
   "metadata": {},
   "source": [
    "### Agora vamos para o Volume, ou seja, contar o número total de eventos feitos."
   ]
  },
  {
   "cell_type": "markdown",
   "metadata": {},
   "source": [
    "Mas antes, vamos dar um double-check nessa relação entre os dados de evento e de perfil."
   ]
  },
  {
   "cell_type": "code",
   "execution_count": 72,
   "metadata": {},
   "outputs": [
    {
     "data": {
      "text/plain": [
       "10664"
      ]
     },
     "execution_count": 72,
     "metadata": {},
     "output_type": "execute_result"
    }
   ],
   "source": [
    "df_eventos['distinct_id'].nunique()"
   ]
  },
  {
   "cell_type": "code",
   "execution_count": 71,
   "metadata": {},
   "outputs": [
    {
     "data": {
      "text/plain": [
       "9251"
      ]
     },
     "execution_count": 71,
     "metadata": {},
     "output_type": "execute_result"
    }
   ],
   "source": [
    "df_perfils['distinct_id'].nunique()"
   ]
  },
  {
   "cell_type": "markdown",
   "metadata": {},
   "source": [
    "Por que há mais usuários únicos registrados na tabela de perfils que na de eventos? Talvez tenha esquecido de remover os usuários internos da Leads na tabela de eventos."
   ]
  },
  {
   "cell_type": "code",
   "execution_count": 8,
   "metadata": {},
   "outputs": [
    {
     "data": {
      "text/plain": [
       "934355"
      ]
     },
     "execution_count": 8,
     "metadata": {},
     "output_type": "execute_result"
    }
   ],
   "source": [
    "df_eventos['distinct_id'].count()"
   ]
  },
  {
   "cell_type": "code",
   "execution_count": 9,
   "metadata": {},
   "outputs": [
    {
     "data": {
      "text/html": [
       "<div>\n",
       "<style scoped>\n",
       "    .dataframe tbody tr th:only-of-type {\n",
       "        vertical-align: middle;\n",
       "    }\n",
       "\n",
       "    .dataframe tbody tr th {\n",
       "        vertical-align: top;\n",
       "    }\n",
       "\n",
       "    .dataframe thead th {\n",
       "        text-align: right;\n",
       "    }\n",
       "</style>\n",
       "<table border=\"1\" class=\"dataframe\">\n",
       "  <thead>\n",
       "    <tr style=\"text-align: right;\">\n",
       "      <th></th>\n",
       "      <th>event</th>\n",
       "      <th>time</th>\n",
       "    </tr>\n",
       "    <tr>\n",
       "      <th>distinct_id</th>\n",
       "      <th></th>\n",
       "      <th></th>\n",
       "    </tr>\n",
       "  </thead>\n",
       "  <tbody>\n",
       "    <tr>\n",
       "      <td>00JPlpZE7fwEBd02ckdN2USioJFEl48m.926fc147413241ccececdaf2737e3895</td>\n",
       "      <td>1</td>\n",
       "      <td>1</td>\n",
       "    </tr>\n",
       "    <tr>\n",
       "      <td>00lEp5f2lHSRkdmPtNUCNvqNwAoH9mV8.820a3738c36c6c1c0696db5d816c573b</td>\n",
       "      <td>83</td>\n",
       "      <td>83</td>\n",
       "    </tr>\n",
       "    <tr>\n",
       "      <td>012F3TlZie1i3OqXPiA2MMAMaHkecEgc.b2d86c6fd5ad2f852f1848e2099bcf37</td>\n",
       "      <td>6</td>\n",
       "      <td>6</td>\n",
       "    </tr>\n",
       "    <tr>\n",
       "      <td>01PAzfApVUdVGyxAzXO3paELJpAxnLWP.688c75d03aaa1d3a023df9c71fcf4462</td>\n",
       "      <td>1</td>\n",
       "      <td>1</td>\n",
       "    </tr>\n",
       "    <tr>\n",
       "      <td>01upcsg4zvEi61OOipUEIsNqEw6gY05N.85cba73c00485443335b4458481b3246</td>\n",
       "      <td>4</td>\n",
       "      <td>4</td>\n",
       "    </tr>\n",
       "    <tr>\n",
       "      <td>...</td>\n",
       "      <td>...</td>\n",
       "      <td>...</td>\n",
       "    </tr>\n",
       "    <tr>\n",
       "      <td>zvrE05epQyzByZ2a219ks4JyOeWsWswp.32bad93919c9a7c7f81332d9b0651e81</td>\n",
       "      <td>4</td>\n",
       "      <td>4</td>\n",
       "    </tr>\n",
       "    <tr>\n",
       "      <td>zxOPfy5Qdfe71ldmgqztzj5CxfPMHqWp.ce6613207f02022b565c117c00178fc0</td>\n",
       "      <td>26</td>\n",
       "      <td>26</td>\n",
       "    </tr>\n",
       "    <tr>\n",
       "      <td>zyAnzYL8sUBD3wNIMD6XvSd69JmCtCon.fb6c71cfa13c1e134cefc39a8850a49f</td>\n",
       "      <td>1</td>\n",
       "      <td>1</td>\n",
       "    </tr>\n",
       "    <tr>\n",
       "      <td>zyihlGXoCyy1qsEJ5PWnh9QYQkEmernX.6efdfa8033ef9b5879c5867da2220609</td>\n",
       "      <td>6</td>\n",
       "      <td>6</td>\n",
       "    </tr>\n",
       "    <tr>\n",
       "      <td>zzE7hEvWieEZC4RyxtPdBpam8OzduXR5.21c8fa03acadb7a7ddedd7b1cb1f3ae3</td>\n",
       "      <td>94</td>\n",
       "      <td>94</td>\n",
       "    </tr>\n",
       "  </tbody>\n",
       "</table>\n",
       "<p>10664 rows × 2 columns</p>\n",
       "</div>"
      ],
      "text/plain": [
       "                                                    event  time\n",
       "distinct_id                                                    \n",
       "00JPlpZE7fwEBd02ckdN2USioJFEl48m.926fc147413241...      1     1\n",
       "00lEp5f2lHSRkdmPtNUCNvqNwAoH9mV8.820a3738c36c6c...     83    83\n",
       "012F3TlZie1i3OqXPiA2MMAMaHkecEgc.b2d86c6fd5ad2f...      6     6\n",
       "01PAzfApVUdVGyxAzXO3paELJpAxnLWP.688c75d03aaa1d...      1     1\n",
       "01upcsg4zvEi61OOipUEIsNqEw6gY05N.85cba73c004854...      4     4\n",
       "...                                                   ...   ...\n",
       "zvrE05epQyzByZ2a219ks4JyOeWsWswp.32bad93919c9a7...      4     4\n",
       "zxOPfy5Qdfe71ldmgqztzj5CxfPMHqWp.ce6613207f0202...     26    26\n",
       "zyAnzYL8sUBD3wNIMD6XvSd69JmCtCon.fb6c71cfa13c1e...      1     1\n",
       "zyihlGXoCyy1qsEJ5PWnh9QYQkEmernX.6efdfa8033ef9b...      6     6\n",
       "zzE7hEvWieEZC4RyxtPdBpam8OzduXR5.21c8fa03acadb7...     94    94\n",
       "\n",
       "[10664 rows x 2 columns]"
      ]
     },
     "execution_count": 9,
     "metadata": {},
     "output_type": "execute_result"
    }
   ],
   "source": [
    "df_eventos.groupby('distinct_id').count()"
   ]
  },
  {
   "cell_type": "code",
   "execution_count": 10,
   "metadata": {},
   "outputs": [
    {
     "data": {
      "text/plain": [
       "min           1.000000\n",
       "max       15284.000000\n",
       "mean         87.617686\n",
       "median       15.000000\n",
       "Name: distinct_id, dtype: float64"
      ]
     },
     "execution_count": 10,
     "metadata": {},
     "output_type": "execute_result"
    }
   ],
   "source": [
    "df_eventos['distinct_id'].value_counts().agg(['min', 'max', 'mean', 'median'])"
   ]
  },
  {
   "cell_type": "markdown",
   "metadata": {},
   "source": [
    "Mas fora isso, o resto parece saudável. Vamos então criar o Volume contando na tabela de eventos quantas vezes um UniqueID aparece e jogando essa contagem de volta para a tabela de perfils."
   ]
  },
  {
   "cell_type": "code",
   "execution_count": 13,
   "metadata": {},
   "outputs": [],
   "source": [
    "count_eventos = df_eventos['distinct_id'].value_counts()"
   ]
  },
  {
   "cell_type": "code",
   "execution_count": 14,
   "metadata": {},
   "outputs": [],
   "source": [
    "df_count_eventos = count_eventos.to_frame()"
   ]
  },
  {
   "cell_type": "code",
   "execution_count": 16,
   "metadata": {},
   "outputs": [],
   "source": [
    "# gambiarras de Pandas muito feias, favor não ver\n",
    "df_count_eventos.reset_index(level=0, inplace=True)\n",
    "df_count_eventos.rename(columns={'distinct_id':'count_eventos'}, inplace=True)\n",
    "df_count_eventos.rename(columns={'index':'distinct_id'}, inplace=True)"
   ]
  },
  {
   "cell_type": "code",
   "execution_count": 81,
   "metadata": {},
   "outputs": [
    {
     "data": {
      "text/html": [
       "<div>\n",
       "<style scoped>\n",
       "    .dataframe tbody tr th:only-of-type {\n",
       "        vertical-align: middle;\n",
       "    }\n",
       "\n",
       "    .dataframe tbody tr th {\n",
       "        vertical-align: top;\n",
       "    }\n",
       "\n",
       "    .dataframe thead th {\n",
       "        text-align: right;\n",
       "    }\n",
       "</style>\n",
       "<table border=\"1\" class=\"dataframe\">\n",
       "  <thead>\n",
       "    <tr style=\"text-align: right;\">\n",
       "      <th></th>\n",
       "      <th>distinct_id</th>\n",
       "      <th>count_eventos</th>\n",
       "    </tr>\n",
       "  </thead>\n",
       "  <tbody>\n",
       "    <tr>\n",
       "      <td>0</td>\n",
       "      <td>eO4IBKUGkkJXfLCvGFisADzik8cSlQqm.f26d9494eea07...</td>\n",
       "      <td>15284</td>\n",
       "    </tr>\n",
       "    <tr>\n",
       "      <td>1</td>\n",
       "      <td>NCSCcBljLTHR5zBkF84UtTFxsvOAhlvO.936cbcc681bb8...</td>\n",
       "      <td>9502</td>\n",
       "    </tr>\n",
       "    <tr>\n",
       "      <td>2</td>\n",
       "      <td>tIPIx8WFIYwrTzq3BUbM25inzz3CYqol.f17c1b26b6dff...</td>\n",
       "      <td>9239</td>\n",
       "    </tr>\n",
       "    <tr>\n",
       "      <td>3</td>\n",
       "      <td>QKK4JVKAB9BFV2yLVoPCccYAmXI9QwRs.88dcefc39941b...</td>\n",
       "      <td>8287</td>\n",
       "    </tr>\n",
       "    <tr>\n",
       "      <td>4</td>\n",
       "      <td>ictkhvWXdhEGz0ssGMxlWWpBfhEQX5em.2c1677680b038...</td>\n",
       "      <td>7617</td>\n",
       "    </tr>\n",
       "  </tbody>\n",
       "</table>\n",
       "</div>"
      ],
      "text/plain": [
       "                                         distinct_id  count_eventos\n",
       "0  eO4IBKUGkkJXfLCvGFisADzik8cSlQqm.f26d9494eea07...          15284\n",
       "1  NCSCcBljLTHR5zBkF84UtTFxsvOAhlvO.936cbcc681bb8...           9502\n",
       "2  tIPIx8WFIYwrTzq3BUbM25inzz3CYqol.f17c1b26b6dff...           9239\n",
       "3  QKK4JVKAB9BFV2yLVoPCccYAmXI9QwRs.88dcefc39941b...           8287\n",
       "4  ictkhvWXdhEGz0ssGMxlWWpBfhEQX5em.2c1677680b038...           7617"
      ]
     },
     "execution_count": 81,
     "metadata": {},
     "output_type": "execute_result"
    }
   ],
   "source": [
    "df_count_eventos.head()"
   ]
  },
  {
   "cell_type": "markdown",
   "metadata": {},
   "source": [
    "Parece saudável a contagem, vamos criar uma nova tabela com os dados de perfil e a contagem dos eventos."
   ]
  },
  {
   "cell_type": "code",
   "execution_count": 82,
   "metadata": {},
   "outputs": [],
   "source": [
    "df_consolidado = df_count_eventos.merge(df_perfils, on='distinct_id')"
   ]
  },
  {
   "cell_type": "code",
   "execution_count": 83,
   "metadata": {},
   "outputs": [
    {
     "data": {
      "text/html": [
       "<div>\n",
       "<style scoped>\n",
       "    .dataframe tbody tr th:only-of-type {\n",
       "        vertical-align: middle;\n",
       "    }\n",
       "\n",
       "    .dataframe tbody tr th {\n",
       "        vertical-align: top;\n",
       "    }\n",
       "\n",
       "    .dataframe thead th {\n",
       "        text-align: right;\n",
       "    }\n",
       "</style>\n",
       "<table border=\"1\" class=\"dataframe\">\n",
       "  <thead>\n",
       "    <tr style=\"text-align: right;\">\n",
       "      <th></th>\n",
       "      <th>distinct_id</th>\n",
       "      <th>count_eventos</th>\n",
       "      <th>Browser</th>\n",
       "      <th>city</th>\n",
       "      <th>country_code</th>\n",
       "      <th>created</th>\n",
       "      <th>initial_referring_domain</th>\n",
       "      <th>last_seen</th>\n",
       "      <th>os</th>\n",
       "      <th>region</th>\n",
       "      <th>Source</th>\n",
       "      <th>recencia</th>\n",
       "      <th>duracao</th>\n",
       "    </tr>\n",
       "  </thead>\n",
       "  <tbody>\n",
       "    <tr>\n",
       "      <td>0</td>\n",
       "      <td>QKK4JVKAB9BFV2yLVoPCccYAmXI9QwRs.88dcefc39941b...</td>\n",
       "      <td>8287</td>\n",
       "      <td>Chrome 84.0</td>\n",
       "      <td>São Paulo</td>\n",
       "      <td>BR</td>\n",
       "      <td>2020-05-08 07:11:46</td>\n",
       "      <td>$direct</td>\n",
       "      <td>2020-07-28 15:34:10</td>\n",
       "      <td>Windows</td>\n",
       "      <td>Sao Paulo</td>\n",
       "      <td>LA Criar Conta</td>\n",
       "      <td>15</td>\n",
       "      <td>81</td>\n",
       "    </tr>\n",
       "    <tr>\n",
       "      <td>1</td>\n",
       "      <td>1723852f6f284-05818830b468d6-134b3c29-49d40-17...</td>\n",
       "      <td>5793</td>\n",
       "      <td>Chrome 84.0</td>\n",
       "      <td>Sao Jose do Rio Preto</td>\n",
       "      <td>BR</td>\n",
       "      <td>2020-05-21 11:40:59</td>\n",
       "      <td>leads2b.com</td>\n",
       "      <td>2020-08-05 18:35:38</td>\n",
       "      <td>Windows</td>\n",
       "      <td>Sao Paulo</td>\n",
       "      <td>CC CNPJ - Painel de Dados - E-mails</td>\n",
       "      <td>7</td>\n",
       "      <td>76</td>\n",
       "    </tr>\n",
       "    <tr>\n",
       "      <td>2</td>\n",
       "      <td>1724d0fbffc130-045e6b955db998-d373666-100200-1...</td>\n",
       "      <td>4296</td>\n",
       "      <td>Chrome 83.0</td>\n",
       "      <td>Guarapuava</td>\n",
       "      <td>BR</td>\n",
       "      <td>2020-05-25 12:19:35</td>\n",
       "      <td>$direct</td>\n",
       "      <td>2020-06-05 09:17:50</td>\n",
       "      <td>Windows</td>\n",
       "      <td>Parana</td>\n",
       "      <td>LA Criar Conta</td>\n",
       "      <td>68</td>\n",
       "      <td>10</td>\n",
       "    </tr>\n",
       "    <tr>\n",
       "      <td>3</td>\n",
       "      <td>SGIRpUNfoHiJMGa2AO7VlWg6mjGlDGHt.27dd4e881e36a...</td>\n",
       "      <td>3668</td>\n",
       "      <td>Chrome 84.0</td>\n",
       "      <td>Londrina</td>\n",
       "      <td>BR</td>\n",
       "      <td>2020-05-11 08:15:58</td>\n",
       "      <td>$direct</td>\n",
       "      <td>2020-08-12 13:35:45</td>\n",
       "      <td>Windows</td>\n",
       "      <td>Parana</td>\n",
       "      <td>LA Criar Conta</td>\n",
       "      <td>0</td>\n",
       "      <td>93</td>\n",
       "    </tr>\n",
       "    <tr>\n",
       "      <td>4</td>\n",
       "      <td>17231edb3c2d1-023a308ef89129-d373666-1fa400-17...</td>\n",
       "      <td>3403</td>\n",
       "      <td>Chrome 83.0</td>\n",
       "      <td>Salto</td>\n",
       "      <td>BR</td>\n",
       "      <td>2020-05-20 05:52:36</td>\n",
       "      <td>$direct</td>\n",
       "      <td>2020-07-02 17:28:51</td>\n",
       "      <td>Windows</td>\n",
       "      <td>Sao Paulo</td>\n",
       "      <td>LA Criar Conta</td>\n",
       "      <td>41</td>\n",
       "      <td>43</td>\n",
       "    </tr>\n",
       "  </tbody>\n",
       "</table>\n",
       "</div>"
      ],
      "text/plain": [
       "                                         distinct_id  count_eventos  \\\n",
       "0  QKK4JVKAB9BFV2yLVoPCccYAmXI9QwRs.88dcefc39941b...           8287   \n",
       "1  1723852f6f284-05818830b468d6-134b3c29-49d40-17...           5793   \n",
       "2  1724d0fbffc130-045e6b955db998-d373666-100200-1...           4296   \n",
       "3  SGIRpUNfoHiJMGa2AO7VlWg6mjGlDGHt.27dd4e881e36a...           3668   \n",
       "4  17231edb3c2d1-023a308ef89129-d373666-1fa400-17...           3403   \n",
       "\n",
       "       Browser                   city country_code             created  \\\n",
       "0  Chrome 84.0              São Paulo           BR 2020-05-08 07:11:46   \n",
       "1  Chrome 84.0  Sao Jose do Rio Preto           BR 2020-05-21 11:40:59   \n",
       "2  Chrome 83.0             Guarapuava           BR 2020-05-25 12:19:35   \n",
       "3  Chrome 84.0               Londrina           BR 2020-05-11 08:15:58   \n",
       "4  Chrome 83.0                  Salto           BR 2020-05-20 05:52:36   \n",
       "\n",
       "  initial_referring_domain           last_seen       os     region  \\\n",
       "0                  $direct 2020-07-28 15:34:10  Windows  Sao Paulo   \n",
       "1              leads2b.com 2020-08-05 18:35:38  Windows  Sao Paulo   \n",
       "2                  $direct 2020-06-05 09:17:50  Windows     Parana   \n",
       "3                  $direct 2020-08-12 13:35:45  Windows     Parana   \n",
       "4                  $direct 2020-07-02 17:28:51  Windows  Sao Paulo   \n",
       "\n",
       "                                Source  recencia  duracao  \n",
       "0                       LA Criar Conta        15       81  \n",
       "1  CC CNPJ - Painel de Dados - E-mails         7       76  \n",
       "2                       LA Criar Conta        68       10  \n",
       "3                       LA Criar Conta         0       93  \n",
       "4                       LA Criar Conta        41       43  "
      ]
     },
     "execution_count": 83,
     "metadata": {},
     "output_type": "execute_result"
    }
   ],
   "source": [
    "df_consolidado.head()"
   ]
  },
  {
   "cell_type": "markdown",
   "metadata": {},
   "source": [
    "### A Frequência é razoavelmente mais difícil de calcular, então vamos exportar o que temos até agora e continuar no próximo arquivo"
   ]
  },
  {
   "cell_type": "code",
   "execution_count": 85,
   "metadata": {},
   "outputs": [],
   "source": [
    "df_consolidado.to_csv('data/03-perfils-com-rfdv.csv')"
   ]
  }
 ],
 "metadata": {
  "kernelspec": {
   "display_name": "Python 3",
   "language": "python",
   "name": "python3"
  },
  "language_info": {
   "codemirror_mode": {
    "name": "ipython",
    "version": 3
   },
   "file_extension": ".py",
   "mimetype": "text/x-python",
   "name": "python",
   "nbconvert_exporter": "python",
   "pygments_lexer": "ipython3",
   "version": "3.7.4"
  }
 },
 "nbformat": 4,
 "nbformat_minor": 4
}
